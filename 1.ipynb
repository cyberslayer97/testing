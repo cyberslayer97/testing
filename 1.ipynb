{
 "cells": [
  {
   "cell_type": "markdown",
   "id": "49d67f3e-6fa3-4df5-be14-a36815959e73",
   "metadata": {},
   "source": [
    "# Python Fundamentals Part - 1"
   ]
  },
  {
   "cell_type": "markdown",
   "id": "01da1de3-4473-46e4-9cb0-31c22b60d486",
   "metadata": {},
   "source": [
    "Python was developed by Guido van Rossum, a Dutch programmer. It is an interpreted language, which means it runs code line by line. If one of the lines encounters an error, the execution stops at that point and will not proceed further."
   ]
  },
  {
   "cell_type": "markdown",
   "id": "443bc1f9-f735-46ca-bb4f-1919c9dac2ce",
   "metadata": {},
   "source": [
    "## Variables :-"
   ]
  },
  {
   "cell_type": "markdown",
   "id": "b61c9881-a41e-41cd-b9b1-a865e8896023",
   "metadata": {},
   "source": [
    "Variables are like containers. They are used to store data values such as strings, integers, and floats."
   ]
  },
  {
   "cell_type": "markdown",
   "id": "a8f87631-cb67-45a7-8cea-1824ba096713",
   "metadata": {},
   "source": [
    "### Examples of Variables"
   ]
  },
  {
   "cell_type": "code",
   "execution_count": 2,
   "id": "42c22b8e-14f2-4ba7-ac5d-ff2cd32557d0",
   "metadata": {},
   "outputs": [
    {
     "name": "stdout",
     "output_type": "stream",
     "text": [
      "Hello World !\n"
     ]
    }
   ],
   "source": [
    "# String Variable\n",
    "a = \"Hello World !\"\n",
    "print(a)"
   ]
  },
  {
   "cell_type": "code",
   "execution_count": 3,
   "id": "36fdba22-035f-4847-bd30-5fdb5c3f7f28",
   "metadata": {},
   "outputs": [
    {
     "name": "stdout",
     "output_type": "stream",
     "text": [
      "1\n"
     ]
    }
   ],
   "source": [
    "# Integer Variable\n",
    "a = 1\n",
    "print(a)"
   ]
  },
  {
   "cell_type": "code",
   "execution_count": 4,
   "id": "26548c00-a1f0-449b-9e10-f0158612316d",
   "metadata": {},
   "outputs": [
    {
     "name": "stdout",
     "output_type": "stream",
     "text": [
      "3.4\n"
     ]
    }
   ],
   "source": [
    "# Float Variable\n",
    "a = 3.4\n",
    "print(a)"
   ]
  },
  {
   "cell_type": "code",
   "execution_count": 12,
   "id": "59b904f3-5ee8-4c2c-ba61-f024cd40867f",
   "metadata": {},
   "outputs": [
    {
     "name": "stdout",
     "output_type": "stream",
     "text": [
      "A's ID  140730980614984\n",
      "B's ID  140730980614984\n"
     ]
    }
   ],
   "source": [
    "a = 2 \n",
    "b = 2\n",
    "print(\"A's ID \",id(a))\n",
    "print(\"B's ID \",id(b))"
   ]
  },
  {
   "cell_type": "markdown",
   "id": "2089ebef-806c-47fe-9af2-00905bf797a5",
   "metadata": {},
   "source": [
    "## Rules for Creating Variables In Python"
   ]
  },
  {
   "cell_type": "markdown",
   "id": "20bfc183-7e68-4b73-a534-8dd198cf52d0",
   "metadata": {},
   "source": [
    "1) A variable must start with a letter or the underscore symbol ( **_** ).\r",
    "2) A variable is case-sensitive. (name, NAME, Name are all different variables)\n",
    "3) \n",
    "You cannot use reserved keywords in Python as a variable name\n",
    "4) A variable cannot be start with numbers (1,2,3....more.)\n",
    "\n",
    "Here are few reserved Keywords :- **if**, **else**, **in**, **elif**, etc.\r\n"
   ]
  },
  {
   "cell_type": "markdown",
   "id": "0f4611f4-15e6-433a-af88-e991572b2bb8",
   "metadata": {},
   "source": [
    "### Examples of Creating Variables in Python"
   ]
  },
  {
   "cell_type": "code",
   "execution_count": 13,
   "id": "c8bb733b-cbde-4379-8d1c-d774cef12f95",
   "metadata": {},
   "outputs": [
    {
     "name": "stdout",
     "output_type": "stream",
     "text": [
      "1 2\n",
      "---------\n",
      "3 4\n",
      "---------\n",
      "5 6\n",
      "---------\n",
      "7 8\n",
      "---------\n",
      "(9, 10, 11) 12 13\n"
     ]
    }
   ],
   "source": [
    "# Right way of creating variables\n",
    "\n",
    "A = 1\n",
    "a = 2\n",
    "print(A, a)\n",
    "print(\"---------\")\n",
    "\n",
    "Harish = 3\n",
    "ab12 = 4\n",
    "print(Harish, ab12)\n",
    "print(\"---------\")\n",
    "\n",
    "Ab12 = 5\n",
    "AB12 = 6\n",
    "print(Ab12, AB12)\n",
    "print(\"---------\")\n",
    "\n",
    "_hello = 7\n",
    "a_b = 8\n",
    "print(_hello, a_b)\n",
    "print(\"---------\")\n",
    "\n",
    "ab = 9,10,11\n",
    "c,d = 12,13\n",
    "print(ab, c, d)\n",
    "\n"
   ]
  },
  {
   "cell_type": "code",
   "execution_count": 15,
   "id": "fe971ee9-0a2d-4db9-84ba-a51df4286f4a",
   "metadata": {},
   "outputs": [
    {
     "ename": "SyntaxError",
     "evalue": "invalid decimal literal (1115951510.py, line 5)",
     "output_type": "error",
     "traceback": [
      "\u001b[1;36m  Cell \u001b[1;32mIn[15], line 5\u001b[1;36m\u001b[0m\n\u001b[1;33m    1ab = 65\u001b[0m\n\u001b[1;37m    ^\u001b[0m\n\u001b[1;31mSyntaxError\u001b[0m\u001b[1;31m:\u001b[0m invalid decimal literal\n"
     ]
    }
   ],
   "source": [
    "#Wrong way of creating Variables\n",
    "if = 1\n",
    "Ab#dc = 88\n",
    "ab kl = 00\n",
    "1ab = 65\n",
    "Version1.3 = 66\n",
    "a,b = 89"
   ]
  },
  {
   "cell_type": "markdown",
   "id": "b7670cdd-48ed-48ea-ad2c-50350cf97785",
   "metadata": {},
   "source": [
    "## Concepts of Reference and Value (Object)"
   ]
  },
  {
   "cell_type": "code",
   "execution_count": 1,
   "id": "1fb32463-c6ef-4ea0-90b0-2f88fd999427",
   "metadata": {},
   "outputs": [
    {
     "name": "stdout",
     "output_type": "stream",
     "text": [
      "3\n",
      "4 4 4 4\n"
     ]
    }
   ],
   "source": [
    "#Variable = Reference\n",
    "#Value = Object\n",
    "\n",
    "a = 3\n",
    "print(a)\n",
    "\n",
    "#Reference = 1, Object = 1\n",
    "\n",
    "b=c=d=e = 4\n",
    "print(b,c,d,e)\n",
    "\n",
    "#Reference = 4, Object = 1"
   ]
  },
  {
   "cell_type": "code",
   "execution_count": 2,
   "id": "0ffe80e5-f97c-44ed-a52c-93c421db9528",
   "metadata": {},
   "outputs": [
    {
     "name": "stdout",
     "output_type": "stream",
     "text": [
      "<class 'str'>\n",
      "<class 'int'>\n",
      "<class 'float'>\n",
      "<class 'complex'>\n"
     ]
    }
   ],
   "source": [
    "### How to check data types in Python\n",
    "\n",
    "a = \"String\"\n",
    "print(type(a))\n",
    "\n",
    "b = 1\n",
    "print(type(b))\n",
    "\n",
    "c = 1.1\n",
    "print(type(c))\n",
    "\n",
    "d = 2+2j\n",
    "print(type(d))"
   ]
  }
 ],
 "metadata": {
  "kernelspec": {
   "display_name": "Python 3 (ipykernel)",
   "language": "python",
   "name": "python3"
  },
  "language_info": {
   "codemirror_mode": {
    "name": "ipython",
    "version": 3
   },
   "file_extension": ".py",
   "mimetype": "text/x-python",
   "name": "python",
   "nbconvert_exporter": "python",
   "pygments_lexer": "ipython3",
   "version": "3.11.7"
  }
 },
 "nbformat": 4,
 "nbformat_minor": 5
}
